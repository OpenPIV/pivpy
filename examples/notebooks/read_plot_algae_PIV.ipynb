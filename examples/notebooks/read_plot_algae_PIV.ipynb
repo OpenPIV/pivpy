{
 "cells": [
  {
   "cell_type": "markdown",
   "metadata": {},
   "source": [
    "# PIV data from algae PIV \n",
    "See the google shared drive Algae Lab/PIV_29112020 for the data\n",
    "https://drive.google.com/drive/folders/1QTjefUV0BZpM-ev0civBPu_iyD2aS5Va?usp=sharing\n",
    "\n",
    "See e-mail from Hadar for the set of results:\n",
    " - rms\n",
    " - Reynolds stress \n",
    " - turbulence intensity \"near\" and \"far\" from the algae for all frequencies."
   ]
  },
  {
   "cell_type": "code",
   "execution_count": 1,
   "metadata": {},
   "outputs": [],
   "source": [
    "from pivpy import io, pivpy, graphics\n",
    "import xarray as xr\n",
    "import os\n",
    "import re\n",
    "import numpy as np\n",
    "import matplotlib.pyplot as plt\n",
    "%matplotlib inline"
   ]
  },
  {
   "cell_type": "code",
   "execution_count": 2,
   "metadata": {},
   "outputs": [],
   "source": [
    "def remove_outliers(d):\n",
    "    upperu = np.percentile(np.abs(d.u.values.flatten()),97.5)\n",
    "    upperv = np.percentile(np.abs(d.v.values.flatten()),97.5)\n",
    "\n",
    "    masku = d['u'].where(np.abs(d['u']) <= upperu)\n",
    "    masku.fillna(0.)\n",
    "    d['u'] = masku\n",
    "\n",
    "    maskv = d['v'].where(np.abs(d['v']) <= upperv)\n",
    "    maskv.fillna(0.)\n",
    "    d['v'] = maskv\n",
    "    return d\n"
   ]
  },
  {
   "cell_type": "code",
   "execution_count": 3,
   "metadata": {},
   "outputs": [
    {
     "ename": "OSError",
     "evalue": "No files *.vec in the directory Analysis/150/ ",
     "output_type": "error",
     "traceback": [
      "\u001b[0;31m---------------------------------------------------------------------------\u001b[0m",
      "\u001b[0;31mOSError\u001b[0m                                   Traceback (most recent call last)",
      "\u001b[0;32m<ipython-input-3-25d72630ae50>\u001b[0m in \u001b[0;36m<module>\u001b[0;34m\u001b[0m\n\u001b[1;32m      3\u001b[0m \u001b[0mdata\u001b[0m \u001b[0;34m=\u001b[0m \u001b[0;34m[\u001b[0m\u001b[0;34m]\u001b[0m\u001b[0;34m\u001b[0m\u001b[0;34m\u001b[0m\u001b[0m\n\u001b[1;32m      4\u001b[0m \u001b[0;32mfor\u001b[0m \u001b[0mf\u001b[0m \u001b[0;32min\u001b[0m \u001b[0mfolders\u001b[0m\u001b[0;34m:\u001b[0m\u001b[0;34m\u001b[0m\u001b[0;34m\u001b[0m\u001b[0m\n\u001b[0;32m----> 5\u001b[0;31m     \u001b[0md\u001b[0m \u001b[0;34m=\u001b[0m \u001b[0mio\u001b[0m\u001b[0;34m.\u001b[0m\u001b[0mload_directory\u001b[0m\u001b[0;34m(\u001b[0m\u001b[0;34mf'Analysis/{f}/'\u001b[0m\u001b[0;34m)\u001b[0m\u001b[0;34m\u001b[0m\u001b[0;34m\u001b[0m\u001b[0m\n\u001b[0m\u001b[1;32m      6\u001b[0m     \u001b[0;31m# crop the analyzed region, see some images\u001b[0m\u001b[0;34m\u001b[0m\u001b[0;34m\u001b[0m\u001b[0;34m\u001b[0m\u001b[0m\n\u001b[1;32m      7\u001b[0m     \u001b[0md\u001b[0m \u001b[0;34m=\u001b[0m \u001b[0md\u001b[0m\u001b[0;34m.\u001b[0m\u001b[0mpiv\u001b[0m\u001b[0;34m.\u001b[0m\u001b[0mcrop\u001b[0m\u001b[0;34m(\u001b[0m\u001b[0;34m[\u001b[0m\u001b[0;36m500\u001b[0m\u001b[0;34m,\u001b[0m\u001b[0;36m3800\u001b[0m\u001b[0;34m,\u001b[0m\u001b[0;36m2600\u001b[0m\u001b[0;34m,\u001b[0m\u001b[0;36m250\u001b[0m\u001b[0;34m]\u001b[0m\u001b[0;34m)\u001b[0m\u001b[0;34m\u001b[0m\u001b[0;34m\u001b[0m\u001b[0m\n",
      "\u001b[0;32m~/Downloads/repos/pivpy/pivpy/io.py\u001b[0m in \u001b[0;36mload_directory\u001b[0;34m(path, basename, ext)\u001b[0m\n\u001b[1;32m    185\u001b[0m     \u001b[0mfiles\u001b[0m \u001b[0;34m=\u001b[0m \u001b[0msorted\u001b[0m\u001b[0;34m(\u001b[0m\u001b[0mglob\u001b[0m\u001b[0;34m(\u001b[0m\u001b[0mos\u001b[0m\u001b[0;34m.\u001b[0m\u001b[0mpath\u001b[0m\u001b[0;34m.\u001b[0m\u001b[0mjoin\u001b[0m\u001b[0;34m(\u001b[0m\u001b[0mpath\u001b[0m\u001b[0;34m,\u001b[0m \u001b[0mbasename\u001b[0m \u001b[0;34m+\u001b[0m \u001b[0mext\u001b[0m\u001b[0;34m)\u001b[0m\u001b[0;34m)\u001b[0m\u001b[0;34m)\u001b[0m\u001b[0;34m\u001b[0m\u001b[0;34m\u001b[0m\u001b[0m\n\u001b[1;32m    186\u001b[0m     \u001b[0;32mif\u001b[0m \u001b[0mlen\u001b[0m\u001b[0;34m(\u001b[0m\u001b[0mfiles\u001b[0m\u001b[0;34m)\u001b[0m \u001b[0;34m==\u001b[0m \u001b[0;36m0\u001b[0m\u001b[0;34m:\u001b[0m\u001b[0;34m\u001b[0m\u001b[0;34m\u001b[0m\u001b[0m\n\u001b[0;32m--> 187\u001b[0;31m         \u001b[0;32mraise\u001b[0m \u001b[0mIOError\u001b[0m\u001b[0;34m(\u001b[0m\u001b[0;34mf\"No files {basename+ext} in the directory {path} \"\u001b[0m\u001b[0;34m)\u001b[0m\u001b[0;34m\u001b[0m\u001b[0;34m\u001b[0m\u001b[0m\n\u001b[0m\u001b[1;32m    188\u001b[0m     \u001b[0;32melse\u001b[0m\u001b[0;34m:\u001b[0m\u001b[0;34m\u001b[0m\u001b[0;34m\u001b[0m\u001b[0m\n\u001b[1;32m    189\u001b[0m         \u001b[0mprint\u001b[0m\u001b[0;34m(\u001b[0m\u001b[0;34mf\"found {len(files)} files\"\u001b[0m\u001b[0;34m)\u001b[0m\u001b[0;34m\u001b[0m\u001b[0;34m\u001b[0m\u001b[0m\n",
      "\u001b[0;31mOSError\u001b[0m: No files *.vec in the directory Analysis/150/ "
     ]
    }
   ],
   "source": [
    "# %pdb\n",
    "folders = ['150','200','250','280','300']\n",
    "data = []\n",
    "for f in folders:\n",
    "    d = io.load_directory(f'Analysis/{f}/')\n",
    "    # crop the analyzed region, see some images\n",
    "    d = d.piv.crop([500,3800,2600,250])\n",
    "    d = remove_outliers(d)\n",
    "    d.attrs['folder'] = f\n",
    "    data.append(d)"
   ]
  },
  {
   "cell_type": "code",
   "execution_count": null,
   "metadata": {},
   "outputs": [],
   "source": [
    "def analysis(d):\n",
    "    print(f\"Grid frequency {d.attrs['folder']} rpm\")\n",
    "    fluct = d.copy()\n",
    "    fluct -= fluct.mean(dim='t')\n",
    "    fluct['tke'] = fluct['u']**2 + fluct['v']**2\n",
    "    fluct['rs'] = -1*fluct['u']*fluct['v'] # add mean during the plot\n",
    "    fluct['ti'] = np.sqrt(fluct['tke'])/d['v'].mean(dim='t')\n",
    "\n",
    "    plt.figure()\n",
    "    fluct.rs.mean(dim='t').plot.contourf()\n",
    "    plt.gca().invert_yaxis()\n",
    "    plt.title(f'Reynolds stress')\n",
    "\n",
    "    plt.figure()\n",
    "    np.sqrt(fluct['tke']).isel(t=0).plot.contourf()\n",
    "    plt.gca().invert_yaxis()\n",
    "    plt.title(f'TKE t={d.t[0].values}')\n",
    "\n",
    "    plt.figure()\n",
    "    fluct.ti.isel(t=0).plot.contourf()\n",
    "    plt.gca().invert_yaxis()\n",
    "    plt.title(f'Turbulent intensity t={d.t[0].values}')"
   ]
  },
  {
   "cell_type": "code",
   "execution_count": null,
   "metadata": {},
   "outputs": [],
   "source": [
    "for d in data:\n",
    "    analysis(d)"
   ]
  },
  {
   "cell_type": "code",
   "execution_count": null,
   "metadata": {},
   "outputs": [],
   "source": []
  },
  {
   "cell_type": "code",
   "execution_count": null,
   "metadata": {},
   "outputs": [],
   "source": []
  }
 ],
 "metadata": {
  "kernelspec": {
   "display_name": "Python [conda env:pivpy] *",
   "language": "python",
   "name": "conda-env-pivpy-py"
  },
  "language_info": {
   "codemirror_mode": {
    "name": "ipython",
    "version": 3
   },
   "file_extension": ".py",
   "mimetype": "text/x-python",
   "name": "python",
   "nbconvert_exporter": "python",
   "pygments_lexer": "ipython3",
   "version": "3.8.5"
  }
 },
 "nbformat": 4,
 "nbformat_minor": 4
}
