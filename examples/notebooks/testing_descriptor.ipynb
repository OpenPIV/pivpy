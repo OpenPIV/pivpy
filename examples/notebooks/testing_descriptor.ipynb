{
  "cells": [
    {
      "cell_type": "code",
      "source": [
        "# let's create first some sample dataset"
      ],
      "outputs": [],
      "execution_count": 1,
      "metadata": {
        "collapsed": false,
        "outputHidden": false,
        "inputHidden": false
      }
    },
    {
      "cell_type": "code",
      "source": [
        "import numpy as np\n",
        "import xarray as xr\n",
        "import matplotlib.pyplot as plt\n",
        "%matplotlib inline\n",
        "from pivpy import io"
      ],
      "outputs": [],
      "execution_count": 7,
      "metadata": {
        "collapsed": false,
        "outputHidden": false,
        "inputHidden": false
      }
    },
    {
      "cell_type": "code",
      "source": [
        "x  = np.arange(32,128,32)\n",
        "y = np.arange(16,128,16)\n",
        "\n",
        "xm,ym = np.meshgrid(x,y)\n",
        "\n",
        "u = np.ones_like(xm.T) + np.arange(0,7)\n",
        "v = np.zeros_like(ym.T)+np.random.rand(3,1)-.5\n",
        "\n",
        "# plt.quiver(xm.T,ym.T,u,v)\n",
        "\n",
        "chc = np.ones_like(xm.T)\n",
        "\nu = xr.DataArray(u,dims=('x','y'),coords={'x':x,'y':y})"
      ],
      "outputs": [],
      "execution_count": 92,
      "metadata": {
        "collapsed": false,
        "outputHidden": false,
        "inputHidden": false
      }
    },
    {
      "cell_type": "code",
      "source": [
        "plt.quiver(xm.T,ym.T,u,v)"
      ],
      "outputs": [
        {
          "output_type": "execute_result",
          "execution_count": 98,
          "data": {
            "text/plain": [
              "<matplotlib.quiver.Quiver at 0x1279257b8>"
            ]
          },
          "metadata": {}
        },
        {
          "output_type": "display_data",
          "data": {
            "text/plain": [
              "<Figure size 432x288 with 1 Axes>"
            ],
            "image/png": "[encoded data removed]"
          },
          "metadata": {
            "needs_background": "light"
          }
        }
      ],
      "execution_count": 98,
      "metadata": {
        "collapsed": false,
        "outputHidden": false,
        "inputHidden": false
      }
    },
    {
      "cell_type": "code",
      "source": [
        "ym.T"
      ],
      "outputs": [
        {
          "output_type": "execute_result",
          "execution_count": 100,
          "data": {
            "text/plain": [
              "array([[ 16,  32,  48,  64,  80,  96, 112],\n",
              "       [ 16,  32,  48,  64,  80,  96, 112],\n",
              "       [ 16,  32,  48,  64,  80,  96, 112]])"
            ]
          },
          "metadata": {}
        }
      ],
      "execution_count": 100,
      "metadata": {
        "collapsed": false,
        "outputHidden": false,
        "inputHidden": false
      }
    },
    {
      "cell_type": "code",
      "source": [
        "u.T.shape"
      ],
      "outputs": [
        {
          "output_type": "execute_result",
          "execution_count": 88,
          "data": {
            "text/plain": [
              "(3, 7)"
            ]
          },
          "metadata": {}
        }
      ],
      "execution_count": 88,
      "metadata": {
        "collapsed": false,
        "outputHidden": false,
        "inputHidden": false
      }
    },
    {
      "cell_type": "code",
      "source": [],
      "outputs": [],
      "execution_count": 80,
      "metadata": {
        "collapsed": false,
        "outputHidden": false,
        "inputHidden": false
      }
    },
    {
      "cell_type": "code",
      "source": [],
      "outputs": [],
      "execution_count": null,
      "metadata": {
        "collapsed": false,
        "outputHidden": false,
        "inputHidden": false
      }
    }
  ],
  "metadata": {
    "kernel_info": {
      "name": "pivpy"
    },
    "language_info": {
      "name": "python",
      "version": "3.6.8",
      "mimetype": "text/x-python",
      "codemirror_mode": {
        "name": "ipython",
        "version": 3
      },
      "pygments_lexer": "ipython3",
      "nbconvert_exporter": "python",
      "file_extension": ".py"
    },
    "kernelspec": {
      "name": "pivpy",
      "language": "python",
      "display_name": "pivpy"
    },
    "nteract": {
      "version": "0.12.3"
    }
  },
  "nbformat": 4,
  "nbformat_minor": 4
}